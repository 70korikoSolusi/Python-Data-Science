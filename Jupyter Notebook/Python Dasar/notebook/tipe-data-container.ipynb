
{
 "cells": [
  {
   "cell_type": "markdown",
   "id": "cd24605f-6b32-453e-aa52-6f65675b7964",
   "metadata": {},
   "source": [
    "Tipe data container (wadah) di Python adalah struktur data yang mampu menyimpan beberapa nilai atau objek lain. \n",
    "Tipe container bawaan yang paling umum adalah list, tuple, dictionary (dict), dan set\n"
   ]
  },
  {
   "cell_type": "markdown",
   "id": "2db232a6-f17c-471c-b358-89ffe2360c0c",
   "metadata": {},
   "source": [
    "List\n",
    "Adalah tipe data urutan yang dapat diubah (mutable). \n",
    "- Menyimpan koleksi objek dalam urutan yang ditentukan dan dapat diindeks. \n",
    "- Menggunakan tanda kurung siku [ ] untuk membuat list. \n"
   ]
  },
  {
   "cell_type": "code",
   "execution_count": 1,
   "id": "290d5d76-f8c7-43f5-8a78-7fb6634e1a91",
   "metadata": {},
   "outputs": [
    {
     "name": "stdout",
     "output_type": "stream",
     "text": [
      "Angka genap dalam daftar adalah: [2, 4, 6, 8, 10]\n"
     ]
    }
   ],
   "source": [
    "daftar_angka = [1, 2, 3, 4, 5, 6, 7, 8, 9, 10]\n",
    "angka_genap = [angka for angka in daftar_angka if angka % 2 == 0]\n",
    "\n",
    "print(f\"Angka genap dalam daftar adalah: {angka_genap}\")"
   ]
  },
  {
   "cell_type": "markdown",
   "id": "17a1b674-0501-4384-aaba-2df559e22f22",
   "metadata": {},
   "source": [
    "Tuple\n",
    "Adalah tipe data urutan yang tidak dapat diubah (immutable). \n",
    "- Menyimpan koleksi objek dalam urutan yang ditentukan dan dapat diindeks. \n",
    "- Menggunakan tanda kurung biasa () atau bahkan tanpa tanda kurung untuk membuat tuple. \n"
   ]
  },
  {
   "cell_type": "code",
   "execution_count": 2,
   "id": "0306bb80-4a95-49d9-865d-f9ccb04e374d",
   "metadata": {},
   "outputs": [
    {
     "name": "stdout",
     "output_type": "stream",
     "text": [
      "Angka ganjil dalam tuple: [1, 3, 5, 7, 9]\n"
     ]
    }
   ],
   "source": [
    "# Contoh tuple\n",
    "my_tuple = (1, 2, 3, 4, 5, 6, 7, 8, 9, 10)\n",
    "\n",
    "# Menggunakan komprehensi daftar\n",
    "angka_ganjil = [angka for angka in my_tuple if angka % 2 != 0]\n",
    "\n",
    "print(\"Angka ganjil dalam tuple:\", angka_ganjil)"
   ]
  },
  {
   "cell_type": "markdown",
   "id": "07b691c8-6309-40fb-873b-ea229eab4c87",
   "metadata": {},
   "source": [
    "Set\n",
    "Adalah tipe data yang menyimpan koleksi objek yang tidak berurutan dan tidak mengizinkan duplikat. \n",
    "Menggunakan tanda kurung kurawal {} untuk membuat set. "
   ]
  },
  {
   "cell_type": "code",
   "execution_count": 3,
   "id": "1fc7c007-25ed-430e-91b4-90ae3f558a50",
   "metadata": {},
   "outputs": [
    {
     "name": "stdout",
     "output_type": "stream",
     "text": [
      "Faktorial elemen dalam set: [2, 6, 24, 120]\n"
     ]
    }
   ],
   "source": [
    "import math\n",
    "\n",
    "my_set = {2, 3, 4, 5}\n",
    "faktorial_list = [math.factorial(num) for num in my_set if isinstance(num, int) and num >= 0]\n",
    "\n",
    "print(f\"Faktorial elemen dalam set: {faktorial_list}\")"
   ]
  },
  {
   "cell_type": "markdown",
   "id": "4d05455c-3cf7-4378-9dd1-9b6051e64512",
   "metadata": {},
   "source": [
    "Dictionary (Dict)\n",
    "Adalah tipe data pemetaan (mapping) yang menyimpan pasangan kunci-nilai. \n",
    "- Setiap nilai diakses menggunakan kunci uniknya. \n",
    "- Menggunakan tanda kurung kurawal {} untuk membuat dictionary. \n"
   ]
  },
  {
   "cell_type": "code",
   "execution_count": 7,
   "id": "0215f42a-3970-439f-9b32-19c44b254a61",
   "metadata": {},
   "outputs": [
    {
     "name": "stdout",
     "output_type": "stream",
     "text": [
      "Bumi Manusia\n",
      "Pramoedya Ananta Toer\n",
      "Genre tidak diketahui\n"
     ]
    }
   ],
   "source": [
    "buku_saya = {\n",
    "    \"judul\": \"Bumi Manusia\",\n",
    "    \"penulis\": \"Pramoedya Ananta Toer\",\n",
    "    \"tahun_terbit\": 1980\n",
    "}\n",
    "\n",
    "\n",
    "judul_buku = buku_saya.get(\"judul\")\n",
    "print(judul_buku)\n",
    " \n",
    "penulis_buku = buku_saya.get(\"penulis\", \"Penulis tidak diketahui\")\n",
    "print(penulis_buku)\n",
    "        # Output: Pramoedya Ananta Toer\n",
    "\n",
    "genre_buku = buku_saya.get(\"genre\", \"Genre tidak diketahui\")\n",
    "print(genre_buku)\n",
    "        # Output: Genre tidak diketahui"
   ]
  },
  {
   "cell_type": "code",
   "execution_count": null,
   "id": "5fddabbd-77a1-4c8a-98c0-3bdb11c92e94",
   "metadata": {},
   "outputs": [],
   "source": []
  }
 ],
 "metadata": {
  "kernelspec": {
   "display_name": "Python [conda env:base] *",
   "language": "python",
   "name": "conda-base-py"
  },
  "language_info": {
   "codemirror_mode": {
    "name": "ipython",
    "version": 3
   },
   "file_extension": ".py",
   "mimetype": "text/x-python",
   "name": "python",
   "nbconvert_exporter": "python",
   "pygments_lexer": "ipython3",
   "version": "3.13.5"
  }
 },
 "nbformat": 4,
 "nbformat_minor": 5
}
