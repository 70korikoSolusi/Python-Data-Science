{
 "cells": [
  {
   "cell_type": "code",
   "execution_count": 6,
   "id": "58b3b02c-08bc-44f7-b2ef-f1c8b1014bc9",
   "metadata": {},
   "outputs": [
    {
     "name": "stdout",
     "output_type": "stream",
     "text": [
      "hello word\n"
     ]
    }
   ],
   "source": [
    "print(\"hello word\")"
   ]
  },
  {
   "cell_type": "code",
   "execution_count": null,
   "id": "a0533550-3bdd-4429-800a-922a3b6b9114",
   "metadata": {},
   "outputs": [],
   "source": [
    "helo = \"selamat datang\"\n",
    "_bil = 10\n",
    "desimal_01 = 0.5\n",
    "boolean = True\n",
    "\n",
    "print(helo)\n",
    "print(\"bilangan integer = \",_bil)\n",
    "print(\"bilangan float = \",desimal_01)\n",
    "print(\"boolean  = \",boolean)\n"
   ]
  },
  {
   "cell_type": "code",
   "execution_count": null,
   "id": "7d695c18-f3bd-4caa-a483-f44dca77e87b",
   "metadata": {},
   "outputs": [],
   "source": [
    "list1 = [1,\"helo\",0.5,False]\n",
    "print(list1)"
   ]
  },
  {
   "cell_type": "code",
   "execution_count": null,
   "id": "4460b542",
   "metadata": {},
   "outputs": [],
   "source": [
    "angka_genap = []\n",
    "angka = [1, 2, 3, 4, 5, 6, 7, 8]\n",
    "for num in angka:\n",
    "        if num % 2 == 0:\n",
    "            print(num)\n",
    "            "
   ]
  },
  {
   "cell_type": "code",
   "execution_count": 16,
   "id": "fa31ed0b",
   "metadata": {},
   "outputs": [
    {
     "name": "stdout",
     "output_type": "stream",
     "text": [
      "Rata-rata array NumPy: 30.0\n",
      "Rata-rata seluruh array 2D: 3.5\n",
      "Rata-rata per kolom: [2.5 3.5 4.5]\n",
      "Rata-rata per baris: [2. 5.]\n"
     ]
    }
   ],
   "source": [
    "import numpy as np\n",
    "\n",
    "    # Membuat array NumPy\n",
    "data_array = np.array([10, 20, 30, 40, 50])\n",
    "\n",
    "    # Menghitung rata-rata seluruh array\n",
    "rata_rata_array = np.mean(data_array)\n",
    "print(f\"Rata-rata array NumPy: {rata_rata_array}\")\n",
    "\n",
    "    # Contoh dengan array 2D\n",
    "array_2d = np.array([[1, 2, 3], [4, 5, 6]])\n",
    "\n",
    "    # Rata-rata seluruh array 2D\n",
    "rata_rata_seluruh_2d = np.mean(array_2d)\n",
    "print(f\"Rata-rata seluruh array 2D: {rata_rata_seluruh_2d}\")\n",
    "\n",
    "    # Rata-rata per kolom (axis=0)\n",
    "rata_rata_kolom = np.mean(array_2d, axis=0)\n",
    "print(f\"Rata-rata per kolom: {rata_rata_kolom}\")\n",
    "\n",
    "    # Rata-rata per baris (axis=1)\n",
    "rata_rata_baris = np.mean(array_2d, axis=1)\n",
    "print(f\"Rata-rata per baris: {rata_rata_baris}\")"
   ]
  },
  {
   "cell_type": "code",
   "execution_count": null,
   "id": "9905f5a2",
   "metadata": {},
   "outputs": [],
   "source": [
    "def adalah_ganjil(n):\n",
    "        return n % 2 != 0\n",
    "\n",
    "angka = [1, 2, 3, 4, 5, 6, 7, 8]\n",
    "    # filter() mengembalikan iterator, jadi kita ubah menjadi list\n",
    "angka_ganjil = list(filter(adalah_ganjil, angka))\n",
    "print(f\"Angka ganjil (menggunakan filter): {angka_ganjil}\") # Akan menghasilkan [1, 3, 5, 7]"
   ]
  },
  {
   "cell_type": "code",
   "execution_count": 15,
   "id": "51164911",
   "metadata": {},
   "outputs": [
    {
     "name": "stdout",
     "output_type": "stream",
     "text": [
      "Daftar angka: [3, 5, 7, 2]\n",
      "Daftar nilai faktorial: [6, 120, 5040, 2]\n",
      "Nilai faktorial tertinggi: 5040\n"
     ]
    }
   ],
   "source": [
    "import math\n",
    "\n",
    "# Daftar angka awal\n",
    "angka_list = [3, 5, 7, 2]\n",
    "\n",
    "# Menghitung faktorial untuk setiap angka menggunakan list comprehension dan math.factorial()\n",
    "faktorial_list = [math.factorial(n) for n in angka_list]\n",
    "\n",
    "# Mencari nilai faktorial tertinggi\n",
    "nilai_tertinggi = max(faktorial_list)\n",
    "\n",
    "# Mencetak hasilnya\n",
    "print(f\"Daftar angka: {angka_list}\")\n",
    "print(f\"Daftar nilai faktorial: {faktorial_list}\")\n",
    "print(f\"Nilai faktorial tertinggi: {nilai_tertinggi}\")"
   ]
  }
 ],
 "metadata": {
  "kernelspec": {
   "display_name": "Python [conda env:base] *",
   "language": "python",
   "name": "conda-base-py"
  },
  "language_info": {
   "codemirror_mode": {
    "name": "ipython",
    "version": 3
   },
   "file_extension": ".py",
   "mimetype": "text/x-python",
   "name": "python",
   "nbconvert_exporter": "python",
   "pygments_lexer": "ipython3",
   "version": "3.13.5"
  }
 },
 "nbformat": 4,
 "nbformat_minor": 5
}
