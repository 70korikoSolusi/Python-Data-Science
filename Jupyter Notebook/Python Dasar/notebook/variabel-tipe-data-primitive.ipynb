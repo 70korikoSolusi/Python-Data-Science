{
 "cells": [
  {
   "cell_type": "markdown",
   "id": "fb14080c-1117-4348-97dc-3841ab74b68f",
   "metadata": {
    "panel-layout": {
     "height": 85.4000015258789,
     "visible": true,
     "width": 100
    }
   },
   "source": [
    "Variabel adalah sebuah wadah atau penanda untuk menyimpan nilai dalam program Python, seperti label untuk lokasi memori.\n",
    "Aturan penamaan variabel \n",
    "1. Variabel dibuat dengan memberikan nilai menggunakan operator =\n",
    "2. Nama variabel harus diawali dengan huruf atau garis bawah (_), bisa berisi huruf, angka, dan garis bawah, dan tidak boleh menggunakan kata kunci Python"
   ]
  },
  {
   "cell_type": "code",
   "execution_count": 7,
   "id": "a0533550-3bdd-4429-800a-922a3b6b9114",
   "metadata": {
    "panel-layout": {
     "height": 9.5367431640625e-07,
     "visible": true,
     "width": 100
    }
   },
   "outputs": [
    {
     "name": "stdout",
     "output_type": "stream",
     "text": [
      "selamat datang\n",
      "bilangan integer =  10\n",
      "bilangan float =  0.5\n",
      "boolean  =  True\n"
     ]
    }
   ],
   "source": [
    "helo = \"selamat datang\"\n",
    "_bil = 10\n",
    "desimal_01 = 0.5\n",
    "boolean = True\n",
    "\n",
    "print(helo)\n",
    "print(\"bilangan integer = \",_bil)\n",
    "print(\"bilangan float = \",desimal_01)\n",
    "print(\"boolean  = \",boolean)\n"
   ]
  },
  {
   "cell_type": "markdown",
   "id": "cf2357dc-b342-43d5-9538-84f1f0339822",
   "metadata": {},
   "source": [
    "tipe data primitif merujuk pada tipe data dasar yang menyimpan nilai tunggal, yaitu \n",
    "- int (bilangan bulat), \n",
    "- float (bilangan desimal), \n",
    "- bool (nilai kebenaran seperti True/False), \n",
    "- str (teks), dan \n",
    "- NoneType (nilai kosong/null atau none)"
   ]
  },
  {
   "cell_type": "code",
   "execution_count": 6,
   "id": "66cc9b22-6ff0-4876-9cda-5c01a0c9a38f",
   "metadata": {},
   "outputs": [
    {
     "name": "stdout",
     "output_type": "stream",
     "text": [
      "bilangan integer =  10\n",
      "bilangan float =  0.5\n",
      "boolean  =  False\n",
      "noneType  =  None\n"
     ]
    }
   ],
   "source": [
    "kata = \"hello\"\n",
    "angka = 10\n",
    "pecahan = 0.5\n",
    "boolean =  False\n",
    "kosong = None\n",
    "print(\"bilangan integer = \",angka)\n",
    "print(\"bilangan float = \",pecahan)\n",
    "print(\"boolean  = \",boolean)\n",
    "print(\"noneType  = \",kosong)\n",
    "\n",
    "\n"
   ]
  }
 ],
 "metadata": {
  "kernelspec": {
   "display_name": "Python [conda env:base] *",
   "language": "python",
   "name": "conda-base-py"
  },
  "language_info": {
   "codemirror_mode": {
    "name": "ipython",
    "version": 3
   },
   "file_extension": ".py",
   "mimetype": "text/x-python",
   "name": "python",
   "nbconvert_exporter": "python",
   "pygments_lexer": "ipython3",
   "version": "3.13.5"
  },
  "panel-cell-order": [
   "fb14080c-1117-4348-97dc-3841ab74b68f",
   "58b3b02c-08bc-44f7-b2ef-f1c8b1014bc9",
   "a0533550-3bdd-4429-800a-922a3b6b9114",
   "7d695c18-f3bd-4caa-a483-f44dca77e87b",
   "fa31ed0b",
   "9905f5a2",
   "51164911"
  ]
 },
 "nbformat": 4,
 "nbformat_minor": 5
}
